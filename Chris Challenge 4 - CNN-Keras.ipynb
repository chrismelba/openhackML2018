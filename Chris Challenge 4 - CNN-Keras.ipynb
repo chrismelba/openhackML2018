{
 "cells": [
  {
   "cell_type": "code",
   "execution_count": 1,
   "metadata": {},
   "outputs": [],
   "source": [
    "from __future__ import print_function # Use a function definition from future version (say 3.x from 2.7 interpreter)\n",
    "import matplotlib.image as mpimg\n",
    "import matplotlib.pyplot as plt\n",
    "import numpy as np\n",
    "import os\n",
    "import sys\n",
    "import time\n"
   ]
  },
  {
   "cell_type": "code",
   "execution_count": 2,
   "metadata": {},
   "outputs": [],
   "source": [
    "images, targets = np.load('images.npy'), np.load('targets.npy')\n",
    "\n",
    "images = images / 255\n",
    "\n"
   ]
  },
  {
   "cell_type": "code",
   "execution_count": 10,
   "metadata": {
    "scrolled": true
   },
   "outputs": [
    {
     "name": "stdout",
     "output_type": "stream",
     "text": [
      "['hardshell_jackets' 'axes' 'axes' ... 'axes' 'carabiners'\n",
      " 'hardshell_jackets']\n"
     ]
    },
    {
     "data": {
      "text/plain": [
       "(1593, 13)"
      ]
     },
     "execution_count": 10,
     "metadata": {},
     "output_type": "execute_result"
    }
   ],
   "source": [
    "data = images#.reshape((-1,128,128,3))\n",
    "\n",
    "from numpy import argmax\n",
    "from numpy import array\n",
    "from sklearn.preprocessing import LabelEncoder\n",
    "from sklearn.preprocessing import OneHotEncoder\n",
    "from sklearn.model_selection import train_test_split\n",
    "from sklearn import preprocessing\n",
    "from keras.utils import to_categorical\n",
    "# define example\n",
    "\n",
    "\n",
    "images_train, images_test, targets_train, targets_test = train_test_split(images, targets, test_size=0.25, stratify=targets)\n",
    "\n",
    "le = preprocessing.LabelEncoder()\n",
    "\n",
    "\n",
    "labels_train = to_categorical(le.fit_transform(targets_train))\n",
    "\n",
    "labels_test = to_categorical(le.fit_transform(targets_test))\n",
    "\n",
    "labels_train.shape"
   ]
  },
  {
   "cell_type": "code",
   "execution_count": 4,
   "metadata": {},
   "outputs": [
    {
     "name": "stdout",
     "output_type": "stream",
     "text": [
      "Collecting keras\n",
      "  Downloading https://files.pythonhosted.org/packages/34/7d/b1dedde8af99bd82f20ed7e9697aac0597de3049b1f786aa2aac3b9bd4da/Keras-2.2.2-py2.py3-none-any.whl (299kB)\n",
      "Requirement already satisfied: h5py in c:\\users\\chris\\anaconda3\\lib\\site-packages (from keras) (2.8.0)\n",
      "Collecting keras-preprocessing==1.0.2 (from keras)\n",
      "  Downloading https://files.pythonhosted.org/packages/71/26/1e778ebd737032749824d5cba7dbd3b0cf9234b87ab5ec79f5f0403ca7e9/Keras_Preprocessing-1.0.2-py2.py3-none-any.whl\n",
      "Requirement already satisfied: scipy>=0.14 in c:\\users\\chris\\anaconda3\\lib\\site-packages (from keras) (1.1.0)\n",
      "Requirement already satisfied: pyyaml in c:\\users\\chris\\anaconda3\\lib\\site-packages (from keras) (3.13)\n",
      "Collecting keras-applications==1.0.4 (from keras)\n",
      "  Downloading https://files.pythonhosted.org/packages/54/90/8f327deaa37a71caddb59b7b4aaa9d4b3e90c0e76f8c2d1572005278ddc5/Keras_Applications-1.0.4-py2.py3-none-any.whl (43kB)\n",
      "Requirement already satisfied: six>=1.9.0 in c:\\users\\chris\\anaconda3\\lib\\site-packages (from keras) (1.11.0)\n",
      "Requirement already satisfied: numpy>=1.9.1 in c:\\users\\chris\\anaconda3\\lib\\site-packages (from keras) (1.14.3)\n",
      "Installing collected packages: keras-preprocessing, keras-applications, keras\n",
      "Successfully installed keras-2.2.2 keras-applications-1.0.4 keras-preprocessing-1.0.2\n"
     ]
    }
   ],
   "source": []
  },
  {
   "cell_type": "code",
   "execution_count": 11,
   "metadata": {},
   "outputs": [],
   "source": [
    "\n",
    "# Define the data dimensions\n",
    "input_dim_model = (128, 128, 3)    # images are 128 x 128 with 3 channel of color \n",
    "input_dim = 3*128*128                # used by readers to treat input data as a vector\n",
    "num_output_classes = 13\n",
    "\n",
    "\n"
   ]
  },
  {
   "cell_type": "code",
   "execution_count": 12,
   "metadata": {},
   "outputs": [
    {
     "name": "stdout",
     "output_type": "stream",
     "text": [
      "_________________________________________________________________\n",
      "Layer (type)                 Output Shape              Param #   \n",
      "=================================================================\n",
      "conv2d_7 (Conv2D)            (None, 61, 61, 32)        4736      \n",
      "_________________________________________________________________\n",
      "dropout_9 (Dropout)          (None, 61, 61, 32)        0         \n",
      "_________________________________________________________________\n",
      "max_pooling2d_7 (MaxPooling2 (None, 31, 31, 32)        0         \n",
      "_________________________________________________________________\n",
      "conv2d_8 (Conv2D)            (None, 27, 27, 64)        51264     \n",
      "_________________________________________________________________\n",
      "dropout_10 (Dropout)         (None, 27, 27, 64)        0         \n",
      "_________________________________________________________________\n",
      "max_pooling2d_8 (MaxPooling2 (None, 14, 14, 64)        0         \n",
      "_________________________________________________________________\n",
      "conv2d_9 (Conv2D)            (None, 12, 12, 64)        36928     \n",
      "_________________________________________________________________\n",
      "dropout_11 (Dropout)         (None, 12, 12, 64)        0         \n",
      "_________________________________________________________________\n",
      "max_pooling2d_9 (MaxPooling2 (None, 6, 6, 64)          0         \n",
      "_________________________________________________________________\n",
      "global_average_pooling2d_3 ( (None, 64)                0         \n",
      "_________________________________________________________________\n",
      "dense_5 (Dense)              (None, 100)               6500      \n",
      "_________________________________________________________________\n",
      "dropout_12 (Dropout)         (None, 100)               0         \n",
      "_________________________________________________________________\n",
      "dense_6 (Dense)              (None, 13)                1313      \n",
      "=================================================================\n",
      "Total params: 100,741\n",
      "Trainable params: 100,741\n",
      "Non-trainable params: 0\n",
      "_________________________________________________________________\n"
     ]
    }
   ],
   "source": [
    "from keras.models import Sequential\n",
    "import keras\n",
    "model = Sequential()\n",
    "from keras.layers import Dense\n",
    "from keras.layers import Conv2D\n",
    "from keras.layers import MaxPooling2D\n",
    "from keras.layers import GlobalAveragePooling2D\n",
    "from keras.layers import Dropout\n",
    "\n",
    "model.add(Conv2D(32, kernel_size=(7, 7), strides=(2, 2),\n",
    "\n",
    "                     activation='relu',\n",
    "\n",
    "                     input_shape=input_dim_model))\n",
    "\n",
    "model.add(Dropout(0.2))\n",
    "\n",
    "model.add(MaxPooling2D(pool_size=(2, 2), strides=(2, 2), padding=\"same\"))\n",
    "\n",
    "\n",
    "\n",
    "model.add(Conv2D(64, (5, 5), activation='relu'))\n",
    "\n",
    "model.add(Dropout(0.2))\n",
    "\n",
    "model.add(MaxPooling2D(pool_size=(2, 2), strides=(2, 2), padding=\"same\"))\n",
    "\n",
    "\n",
    "\n",
    "model.add(Conv2D(64, (3, 3), activation='relu'))\n",
    "\n",
    "model.add(Dropout(0.2))\n",
    "\n",
    "model.add(MaxPooling2D(pool_size=(2, 2), strides=(2, 2), padding=\"same\"))\n",
    "\n",
    "\n",
    "\n",
    "model.add(GlobalAveragePooling2D())\n",
    "\n",
    "model.add(Dense(100, activation='relu'))\n",
    "\n",
    "model.add(Dropout(0.2))\n",
    "\n",
    "model.add(Dense(num_output_classes, activation='softmax'))\n",
    "\n",
    "model.compile(loss=keras.losses.binary_crossentropy,\n",
    "\n",
    "          optimizer=keras.optimizers.Adam(),\n",
    "\n",
    "          metrics=['accuracy'])\n",
    "\n",
    "\n",
    "model.summary()"
   ]
  },
  {
   "cell_type": "code",
   "execution_count": null,
   "metadata": {},
   "outputs": [],
   "source": []
  },
  {
   "cell_type": "code",
   "execution_count": 13,
   "metadata": {
    "scrolled": true
   },
   "outputs": [
    {
     "name": "stdout",
     "output_type": "stream",
     "text": [
      "Train on 1194 samples, validate on 399 samples\n",
      "Epoch 1/50\n",
      "1194/1194 [==============================] - 26s 22ms/step - loss: 0.2563 - acc: 0.9231 - val_loss: 0.2528 - val_acc: 0.9231\n",
      "Epoch 2/50\n",
      "1194/1194 [==============================] - 23s 19ms/step - loss: 0.2320 - acc: 0.9230 - val_loss: 0.2157 - val_acc: 0.9254\n",
      "Epoch 3/50\n",
      "1194/1194 [==============================] - 23s 20ms/step - loss: 0.2037 - acc: 0.9257 - val_loss: 0.1950 - val_acc: 0.9291\n",
      "Epoch 4/50\n",
      "1194/1194 [==============================] - 23s 19ms/step - loss: 0.1663 - acc: 0.9338 - val_loss: 0.1458 - val_acc: 0.9400\n",
      "Epoch 5/50\n",
      "1194/1194 [==============================] - 28s 23ms/step - loss: 0.1389 - acc: 0.9441 - val_loss: 0.1336 - val_acc: 0.9474\n",
      "Epoch 6/50\n",
      "1194/1194 [==============================] - 26s 22ms/step - loss: 0.1218 - acc: 0.9508 - val_loss: 0.1285 - val_acc: 0.9506\n",
      "Epoch 7/50\n",
      "1194/1194 [==============================] - 26s 22ms/step - loss: 0.1091 - acc: 0.9574 - val_loss: 0.1148 - val_acc: 0.9572\n",
      "Epoch 8/50\n",
      "1194/1194 [==============================] - 26s 22ms/step - loss: 0.0993 - acc: 0.9615 - val_loss: 0.1133 - val_acc: 0.9593\n",
      "Epoch 9/50\n",
      "1194/1194 [==============================] - 25s 21ms/step - loss: 0.0915 - acc: 0.9640 - val_loss: 0.0979 - val_acc: 0.9661\n",
      "Epoch 10/50\n",
      "1194/1194 [==============================] - 29s 25ms/step - loss: 0.0871 - acc: 0.9662 - val_loss: 0.0920 - val_acc: 0.9695\n",
      "Epoch 11/50\n",
      "1194/1194 [==============================] - 28s 24ms/step - loss: 0.0777 - acc: 0.9717 - val_loss: 0.0810 - val_acc: 0.9732\n",
      "Epoch 12/50\n",
      "1194/1194 [==============================] - 26s 22ms/step - loss: 0.0685 - acc: 0.9723 - val_loss: 0.1045 - val_acc: 0.9559\n",
      "Epoch 13/50\n",
      "1194/1194 [==============================] - 26s 22ms/step - loss: 0.0680 - acc: 0.9749 - val_loss: 0.0736 - val_acc: 0.9761\n",
      "Epoch 14/50\n",
      "1194/1194 [==============================] - 26s 21ms/step - loss: 0.0599 - acc: 0.9767 - val_loss: 0.0655 - val_acc: 0.9798\n",
      "Epoch 15/50\n",
      "1194/1194 [==============================] - 25s 21ms/step - loss: 0.0538 - acc: 0.9795 - val_loss: 0.0689 - val_acc: 0.9786\n",
      "Epoch 16/50\n",
      "1194/1194 [==============================] - 28s 23ms/step - loss: 0.0508 - acc: 0.9815 - val_loss: 0.0519 - val_acc: 0.9838\n",
      "Epoch 17/50\n",
      "1194/1194 [==============================] - 23s 20ms/step - loss: 0.0455 - acc: 0.9833 - val_loss: 0.0620 - val_acc: 0.9792\n",
      "Epoch 18/50\n",
      "1194/1194 [==============================] - 23s 20ms/step - loss: 0.0409 - acc: 0.9840 - val_loss: 0.0581 - val_acc: 0.9782\n",
      "Epoch 19/50\n",
      "1194/1194 [==============================] - 23s 19ms/step - loss: 0.0448 - acc: 0.9832 - val_loss: 0.0446 - val_acc: 0.9880\n",
      "Epoch 20/50\n",
      "1194/1194 [==============================] - 23s 19ms/step - loss: 0.0341 - acc: 0.9877 - val_loss: 0.0538 - val_acc: 0.9811\n",
      "Epoch 21/50\n",
      "1194/1194 [==============================] - 24s 20ms/step - loss: 0.0320 - acc: 0.9887 - val_loss: 0.0454 - val_acc: 0.9850\n",
      "Epoch 22/50\n",
      "1194/1194 [==============================] - 24s 20ms/step - loss: 0.0328 - acc: 0.9886 - val_loss: 0.0462 - val_acc: 0.9863\n",
      "Epoch 23/50\n",
      "1194/1194 [==============================] - 23s 19ms/step - loss: 0.0303 - acc: 0.9893 - val_loss: 0.0449 - val_acc: 0.9855\n",
      "Epoch 24/50\n",
      "1194/1194 [==============================] - 25s 21ms/step - loss: 0.0255 - acc: 0.9905 - val_loss: 0.0335 - val_acc: 0.9906\n",
      "Epoch 25/50\n",
      "1194/1194 [==============================] - 25s 21ms/step - loss: 0.0252 - acc: 0.9910 - val_loss: 0.0395 - val_acc: 0.9888\n",
      "Epoch 26/50\n",
      "1194/1194 [==============================] - 25s 21ms/step - loss: 0.0216 - acc: 0.9916 - val_loss: 0.0351 - val_acc: 0.9871\n",
      "Epoch 27/50\n",
      "1194/1194 [==============================] - 26s 21ms/step - loss: 0.0209 - acc: 0.9932 - val_loss: 0.0386 - val_acc: 0.9896\n",
      "Epoch 28/50\n",
      "1194/1194 [==============================] - 25s 21ms/step - loss: 0.0228 - acc: 0.9910 - val_loss: 0.0333 - val_acc: 0.9902\n",
      "Epoch 29/50\n",
      "1194/1194 [==============================] - 26s 21ms/step - loss: 0.0253 - acc: 0.9908 - val_loss: 0.0361 - val_acc: 0.9890\n",
      "Epoch 30/50\n",
      "1194/1194 [==============================] - 25s 21ms/step - loss: 0.0165 - acc: 0.9950 - val_loss: 0.0306 - val_acc: 0.9915\n",
      "Epoch 31/50\n",
      "1194/1194 [==============================] - 25s 21ms/step - loss: 0.0178 - acc: 0.9933 - val_loss: 0.0336 - val_acc: 0.9890\n",
      "Epoch 32/50\n",
      "1194/1194 [==============================] - 25s 21ms/step - loss: 0.0133 - acc: 0.9959 - val_loss: 0.0512 - val_acc: 0.9830\n",
      "Epoch 33/50\n",
      "1194/1194 [==============================] - 25s 21ms/step - loss: 0.0138 - acc: 0.9951 - val_loss: 0.0275 - val_acc: 0.9925\n",
      "Epoch 34/50\n",
      "1194/1194 [==============================] - 26s 22ms/step - loss: 0.0192 - acc: 0.9931 - val_loss: 0.0347 - val_acc: 0.9890\n",
      "Epoch 35/50\n",
      "1194/1194 [==============================] - 25s 21ms/step - loss: 0.0252 - acc: 0.9908 - val_loss: 0.0396 - val_acc: 0.9869\n",
      "Epoch 36/50\n",
      "1194/1194 [==============================] - 25s 21ms/step - loss: 0.0168 - acc: 0.9938 - val_loss: 0.0337 - val_acc: 0.9886\n",
      "Epoch 37/50\n",
      "1194/1194 [==============================] - 25s 21ms/step - loss: 0.0176 - acc: 0.9928 - val_loss: 0.0343 - val_acc: 0.9911\n",
      "Epoch 38/50\n",
      "1194/1194 [==============================] - 26s 22ms/step - loss: 0.0108 - acc: 0.9961 - val_loss: 0.0256 - val_acc: 0.9923\n",
      "Epoch 39/50\n",
      "1194/1194 [==============================] - 25s 21ms/step - loss: 0.0165 - acc: 0.9947 - val_loss: 0.0316 - val_acc: 0.9917\n",
      "Epoch 40/50\n",
      "1194/1194 [==============================] - 26s 21ms/step - loss: 0.0140 - acc: 0.9948 - val_loss: 0.0463 - val_acc: 0.9832\n",
      "Epoch 41/50\n",
      "1194/1194 [==============================] - 25s 21ms/step - loss: 0.0219 - acc: 0.9921 - val_loss: 0.0345 - val_acc: 0.9888\n",
      "Epoch 42/50\n",
      "1194/1194 [==============================] - 25s 21ms/step - loss: 0.0207 - acc: 0.9922 - val_loss: 0.0324 - val_acc: 0.9882\n",
      "Epoch 43/50\n",
      "1194/1194 [==============================] - 26s 22ms/step - loss: 0.0118 - acc: 0.9961 - val_loss: 0.0307 - val_acc: 0.9906\n",
      "Epoch 44/50\n",
      "1194/1194 [==============================] - 28s 23ms/step - loss: 0.0095 - acc: 0.9969 - val_loss: 0.0289 - val_acc: 0.9906\n",
      "Epoch 45/50\n",
      "1194/1194 [==============================] - 28s 23ms/step - loss: 0.0091 - acc: 0.9970 - val_loss: 0.0280 - val_acc: 0.9909\n",
      "Epoch 46/50\n",
      "1194/1194 [==============================] - 29s 24ms/step - loss: 0.0069 - acc: 0.9977 - val_loss: 0.0306 - val_acc: 0.9902\n",
      "Epoch 47/50\n",
      "1194/1194 [==============================] - 28s 23ms/step - loss: 0.0084 - acc: 0.9966 - val_loss: 0.0291 - val_acc: 0.9906\n",
      "Epoch 48/50\n",
      "1194/1194 [==============================] - 28s 24ms/step - loss: 0.0069 - acc: 0.9974 - val_loss: 0.0268 - val_acc: 0.9917\n",
      "Epoch 49/50\n",
      "1194/1194 [==============================] - 28s 24ms/step - loss: 0.0128 - acc: 0.9954 - val_loss: 0.0261 - val_acc: 0.9913\n",
      "Epoch 50/50\n",
      "1194/1194 [==============================] - 25s 21ms/step - loss: 0.0090 - acc: 0.9966 - val_loss: 0.0291 - val_acc: 0.9933\n"
     ]
    }
   ],
   "source": [
    "# x_train and y_train are Numpy arrays --just like in the Scikit-Learn API.\n",
    "\n",
    "\n",
    "history = model.fit(images_train, labels_train,   \n",
    "\n",
    "              epochs=50,\n",
    "\n",
    "              batch_size=12,\n",
    "\n",
    "              verbose=1,\n",
    "\n",
    "              validation_split=0.25)"
   ]
  },
  {
   "cell_type": "code",
   "execution_count": 14,
   "metadata": {},
   "outputs": [
    {
     "name": "stdout",
     "output_type": "stream",
     "text": [
      "(531, 128, 128, 3)\n",
      "531/531 [==============================] - 4s 7ms/step\n",
      "[0.027225577561868785, 0.9913080934077333]\n"
     ]
    }
   ],
   "source": [
    "\n",
    "from sklearn.metrics import confusion_matrix\n",
    "print(images_test.shape)\n",
    "loss_and_metrics = model.evaluate(images_test, labels_test, batch_size=128)\n",
    "print(loss_and_metrics)\n"
   ]
  },
  {
   "cell_type": "code",
   "execution_count": 176,
   "metadata": {},
   "outputs": [],
   "source": [
    "model.save('chrisNN.h5')"
   ]
  },
  {
   "cell_type": "code",
   "execution_count": 177,
   "metadata": {},
   "outputs": [],
   "source": [
    "from keras.models import load_model\n",
    "model = load_model('chrisNN.h5')"
   ]
  },
  {
   "cell_type": "code",
   "execution_count": 164,
   "metadata": {},
   "outputs": [
    {
     "name": "stdout",
     "output_type": "stream",
     "text": [
      "_________________________________________________________________\n",
      "Layer (type)                 Output Shape              Param #   \n",
      "=================================================================\n",
      "conv2d_46 (Conv2D)           (None, 122, 122, 32)      4736      \n",
      "_________________________________________________________________\n",
      "dropout_1 (Dropout)          (None, 122, 122, 32)      0         \n",
      "_________________________________________________________________\n",
      "max_pooling2d_42 (MaxPooling (None, 61, 61, 32)        0         \n",
      "_________________________________________________________________\n",
      "conv2d_47 (Conv2D)           (None, 57, 57, 64)        51264     \n",
      "_________________________________________________________________\n",
      "dropout_2 (Dropout)          (None, 57, 57, 64)        0         \n",
      "_________________________________________________________________\n",
      "max_pooling2d_43 (MaxPooling (None, 29, 29, 64)        0         \n",
      "_________________________________________________________________\n",
      "conv2d_48 (Conv2D)           (None, 27, 27, 64)        36928     \n",
      "_________________________________________________________________\n",
      "dropout_3 (Dropout)          (None, 27, 27, 64)        0         \n",
      "_________________________________________________________________\n",
      "max_pooling2d_44 (MaxPooling (None, 14, 14, 64)        0         \n",
      "_________________________________________________________________\n",
      "global_average_pooling2d_9 ( (None, 64)                0         \n",
      "_________________________________________________________________\n",
      "dense_39 (Dense)             (None, 100)               6500      \n",
      "_________________________________________________________________\n",
      "dropout_4 (Dropout)          (None, 100)               0         \n",
      "_________________________________________________________________\n",
      "dense_40 (Dense)             (None, 12)                1212      \n",
      "=================================================================\n",
      "Total params: 100,640\n",
      "Trainable params: 100,640\n",
      "Non-trainable params: 0\n",
      "_________________________________________________________________\n"
     ]
    }
   ],
   "source": [
    "model.summary()"
   ]
  },
  {
   "cell_type": "code",
   "execution_count": null,
   "metadata": {},
   "outputs": [],
   "source": []
  }
 ],
 "metadata": {
  "kernelspec": {
   "display_name": "Python 3",
   "language": "python",
   "name": "python3"
  },
  "language_info": {
   "codemirror_mode": {
    "name": "ipython",
    "version": 3
   },
   "file_extension": ".py",
   "mimetype": "text/x-python",
   "name": "python",
   "nbconvert_exporter": "python",
   "pygments_lexer": "ipython3",
   "version": "3.5.6"
  }
 },
 "nbformat": 4,
 "nbformat_minor": 2
}
