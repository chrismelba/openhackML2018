{
 "cells": [
  {
   "cell_type": "code",
   "execution_count": 1,
   "metadata": {},
   "outputs": [
    {
     "ename": "ModuleNotFoundError",
     "evalue": "No module named 'cv2'",
     "output_type": "error",
     "traceback": [
      "\u001b[1;31m---------------------------------------------------------------------------\u001b[0m",
      "\u001b[1;31mModuleNotFoundError\u001b[0m                       Traceback (most recent call last)",
      "\u001b[1;32m<ipython-input-1-2afc5c5108c3>\u001b[0m in \u001b[0;36m<module>\u001b[1;34m()\u001b[0m\n\u001b[0;32m      1\u001b[0m \u001b[1;32mimport\u001b[0m \u001b[0mtime\u001b[0m\u001b[1;33m\u001b[0m\u001b[0m\n\u001b[0;32m      2\u001b[0m \u001b[1;32mimport\u001b[0m \u001b[0mrequests\u001b[0m\u001b[1;33m\u001b[0m\u001b[0m\n\u001b[1;32m----> 3\u001b[1;33m \u001b[1;32mimport\u001b[0m \u001b[0mcv2\u001b[0m\u001b[1;33m\u001b[0m\u001b[0m\n\u001b[0m\u001b[0;32m      4\u001b[0m \u001b[1;32mimport\u001b[0m \u001b[0moperator\u001b[0m\u001b[1;33m\u001b[0m\u001b[0m\n\u001b[0;32m      5\u001b[0m \u001b[1;32mimport\u001b[0m \u001b[0mnumpy\u001b[0m \u001b[1;32mas\u001b[0m \u001b[0mnp\u001b[0m\u001b[1;33m\u001b[0m\u001b[0m\n",
      "\u001b[1;31mModuleNotFoundError\u001b[0m: No module named 'cv2'"
     ]
    }
   ],
   "source": [
    "import time \n",
    "import requests\n",
    "import cv2\n",
    "import operator\n",
    "import numpy as np\n",
    "import json\n",
    "\n",
    "# Import compatibility libraries (python 2/3 support)\n",
    "from __future__ import absolute_import\n",
    "from __future__ import division\n",
    "from __future__ import print_function\n",
    "from __future__ import unicode_literals\n",
    "\n",
    "# Python 3\n",
    "try:\n",
    "    from urllib.request import urlopen, Request\n",
    "    from urllib.parse import urlparse, urlencode\n",
    "    from http.client import HTTPSConnection\n",
    "# Python 2.7\n",
    "except ImportError:\n",
    "    from urlparse import urlparse\n",
    "    from urllib import urlencode\n",
    "    from urllib2 import Request, urlopen\n",
    "    from httplib import HTTPSConnection\n",
    "\n",
    "# Import library to display results\n",
    "import matplotlib.pyplot as plt\n",
    "%matplotlib inline \n",
    "# Display images within Jupyter"
   ]
  },
  {
   "cell_type": "code",
   "execution_count": 2,
   "metadata": {},
   "outputs": [
    {
     "name": "stdout",
     "output_type": "stream",
     "text": [
      "\n",
      "The following command must be run outside of the IPython shell:\n",
      "\n",
      "    $ pip install azure-cognitiveservices-vision-customvision\n",
      "\n",
      "The Python package manager (pip) can only be used from outside of IPython.\n",
      "Please reissue the `pip` command in a separate terminal or command prompt.\n",
      "\n",
      "See the Python documentation for more information on how to install packages:\n",
      "\n",
      "    https://docs.python.org/3/installing/\n"
     ]
    }
   ],
   "source": [
    "pip install azure-cognitiveservices-vision-customvision"
   ]
  },
  {
   "cell_type": "code",
   "execution_count": 6,
   "metadata": {},
   "outputs": [
    {
     "name": "stdout",
     "output_type": "stream",
     "text": [
      "Requirement already satisfied: msgpack in c:\\users\\chris\\anaconda3\\lib\\site-packages (0.5.6)\n"
     ]
    },
    {
     "name": "stderr",
     "output_type": "stream",
     "text": [
      "You are using pip version 10.0.1, however version 18.0 is available.\n",
      "You should consider upgrading via the 'python -m pip install --upgrade pip' command.\n"
     ]
    },
    {
     "name": "stdout",
     "output_type": "stream",
     "text": [
      "Requirement already satisfied: azure-cognitiveservices-vision-customvision in c:\\users\\chris\\anaconda3\\lib\\site-packages (0.3.0)\n",
      "Requirement already satisfied: azure-cognitiveservices-vision-nspkg>=2.0.0 in c:\\users\\chris\\anaconda3\\lib\\site-packages (from azure-cognitiveservices-vision-customvision) (2.0.0)\n",
      "Requirement already satisfied: azure-common~=1.1 in c:\\users\\chris\\anaconda3\\lib\\site-packages (from azure-cognitiveservices-vision-customvision) (1.1.14)\n",
      "Requirement already satisfied: msrest<2.0.0,>=0.4.28 in c:\\users\\chris\\anaconda3\\lib\\site-packages (from azure-cognitiveservices-vision-customvision) (0.5.4)\n",
      "Requirement already satisfied: azure-cognitiveservices-nspkg>=2.0.0 in c:\\users\\chris\\anaconda3\\lib\\site-packages (from azure-cognitiveservices-vision-nspkg>=2.0.0->azure-cognitiveservices-vision-customvision) (2.0.0)\n",
      "Requirement already satisfied: azure-nspkg>=2.0.0 in c:\\users\\chris\\anaconda3\\lib\\site-packages (from azure-common~=1.1->azure-cognitiveservices-vision-customvision) (2.0.0)\n",
      "Requirement already satisfied: isodate>=0.6.0 in c:\\users\\chris\\anaconda3\\lib\\site-packages (from msrest<2.0.0,>=0.4.28->azure-cognitiveservices-vision-customvision) (0.6.0)\n",
      "Requirement already satisfied: certifi>=2017.4.17 in c:\\users\\chris\\anaconda3\\lib\\site-packages (from msrest<2.0.0,>=0.4.28->azure-cognitiveservices-vision-customvision) (2018.8.24)\n",
      "Requirement already satisfied: requests~=2.16 in c:\\users\\chris\\anaconda3\\lib\\site-packages (from msrest<2.0.0,>=0.4.28->azure-cognitiveservices-vision-customvision) (2.18.4)\n",
      "Requirement already satisfied: requests-oauthlib>=0.5.0 in c:\\users\\chris\\anaconda3\\lib\\site-packages (from msrest<2.0.0,>=0.4.28->azure-cognitiveservices-vision-customvision) (1.0.0)\n",
      "Requirement already satisfied: six in c:\\users\\chris\\anaconda3\\lib\\site-packages (from isodate>=0.6.0->msrest<2.0.0,>=0.4.28->azure-cognitiveservices-vision-customvision) (1.11.0)\n",
      "Requirement already satisfied: chardet<3.1.0,>=3.0.2 in c:\\users\\chris\\anaconda3\\lib\\site-packages (from requests~=2.16->msrest<2.0.0,>=0.4.28->azure-cognitiveservices-vision-customvision) (3.0.4)\n",
      "Requirement already satisfied: idna<2.7,>=2.5 in c:\\users\\chris\\anaconda3\\lib\\site-packages (from requests~=2.16->msrest<2.0.0,>=0.4.28->azure-cognitiveservices-vision-customvision) (2.6)\n",
      "Requirement already satisfied: urllib3<1.23,>=1.21.1 in c:\\users\\chris\\anaconda3\\lib\\site-packages (from requests~=2.16->msrest<2.0.0,>=0.4.28->azure-cognitiveservices-vision-customvision) (1.22)\n",
      "Requirement already satisfied: oauthlib>=0.6.2 in c:\\users\\chris\\anaconda3\\lib\\site-packages (from requests-oauthlib>=0.5.0->msrest<2.0.0,>=0.4.28->azure-cognitiveservices-vision-customvision) (2.1.0)\n"
     ]
    },
    {
     "name": "stderr",
     "output_type": "stream",
     "text": [
      "You are using pip version 10.0.1, however version 18.0 is available.\n",
      "You should consider upgrading via the 'python -m pip install --upgrade pip' command.\n"
     ]
    }
   ],
   "source": [
    "! pip install msgpack\n",
    "! pip install azure-cognitiveservices-vision-customvision"
   ]
  },
  {
   "cell_type": "code",
   "execution_count": 22,
   "metadata": {},
   "outputs": [
    {
     "name": "stdout",
     "output_type": "stream",
     "text": [
      "[<azure.cognitiveservices.vision.customvision.training.models.iteration_py3.Iteration object at 0x0000020318787470>]\n",
      "b2a785bd-8801-4f25-9ba6-15b4c91ef7c2\n"
     ]
    }
   ],
   "source": [
    "from azure.cognitiveservices.vision.customvision.training import training_api\n",
    "from azure.cognitiveservices.vision.customvision.training.models import ImageUrlCreateEntry\n",
    "\n",
    "# Replace with a valid key\n",
    "training_key = \"3ae8936c30c14257af1adde38db7ab28\"\n",
    "prediction_key = \"1624f8b24eb140239e6f8c3dfcdc6a32\"\n",
    "project_id = \"b108d359-aed8-4d15-957b-5d43f696a5de\"\n",
    "\n",
    "trainer = training_api.TrainingApi(training_key)\n",
    "\n",
    "projects = trainer.get_projects()\n",
    "iterations = trainer.get_iterations(project_id)\n",
    "print(iterations)\n",
    "iteration_id = iterations[-1].id\n",
    "print(iteration_id)"
   ]
  },
  {
   "cell_type": "code",
   "execution_count": 1,
   "metadata": {},
   "outputs": [
    {
     "ename": "NameError",
     "evalue": "name 'prediction_key' is not defined",
     "output_type": "error",
     "traceback": [
      "\u001b[1;31m---------------------------------------------------------------------------\u001b[0m",
      "\u001b[1;31mNameError\u001b[0m                                 Traceback (most recent call last)",
      "\u001b[1;32m<ipython-input-1-d7a8e450fe0a>\u001b[0m in \u001b[0;36m<module>\u001b[1;34m()\u001b[0m\n\u001b[0;32m      4\u001b[0m \u001b[1;31m# Now there is a trained endpoint that can be used to make a prediction\u001b[0m\u001b[1;33m\u001b[0m\u001b[1;33m\u001b[0m\u001b[0m\n\u001b[0;32m      5\u001b[0m \u001b[1;33m\u001b[0m\u001b[0m\n\u001b[1;32m----> 6\u001b[1;33m \u001b[0mpredictor\u001b[0m \u001b[1;33m=\u001b[0m \u001b[0mprediction_endpoint\u001b[0m\u001b[1;33m.\u001b[0m\u001b[0mPredictionEndpoint\u001b[0m\u001b[1;33m(\u001b[0m\u001b[0mprediction_key\u001b[0m\u001b[1;33m)\u001b[0m\u001b[1;33m\u001b[0m\u001b[0m\n\u001b[0m\u001b[0;32m      7\u001b[0m \u001b[1;33m\u001b[0m\u001b[0m\n\u001b[0;32m      8\u001b[0m \u001b[1;33m\u001b[0m\u001b[0m\n",
      "\u001b[1;31mNameError\u001b[0m: name 'prediction_key' is not defined"
     ]
    }
   ],
   "source": [
    "from azure.cognitiveservices.vision.customvision.prediction import prediction_endpoint\n",
    "from azure.cognitiveservices.vision.customvision.prediction.prediction_endpoint import models\n",
    "\n",
    "# Now there is a trained endpoint that can be used to make a prediction\n",
    "\n",
    "predictor = prediction_endpoint.PredictionEndpoint(prediction_key)\n",
    "\n",
    "\n",
    "#test_img_url = base_image_url + \"Images/Test/test_image.jpg\"\n",
    "#results = predictor.predict_image_url(project.id, iteration.id, url=test_img_url)\n",
    "\n",
    "# Alternatively, if the images were on disk in a folder called Images alongside the sample.py, then\n",
    "# they can be added by using the following.\n",
    "#\n",
    "# Open the sample image and get back the prediction results.\n",
    "with open(\"C://Users//chris//MSOpenhack//gear_images//insulatedinsnow.jpg\", mode=\"rb\") as test_data:\n",
    "     results = predictor.predict_image(project.id, test_data, iteration_id)\n",
    "\n",
    "# Display the results.\n",
    "for prediction in results.predictions:\n",
    "    print (\"\\t\" + prediction.tag_name + \": {0:.2f}%\".format(prediction.probability * 100))"
   ]
  },
  {
   "cell_type": "code",
   "execution_count": null,
   "metadata": {},
   "outputs": [],
   "source": []
  },
  {
   "cell_type": "code",
   "execution_count": null,
   "metadata": {},
   "outputs": [],
   "source": []
  }
 ],
 "metadata": {
  "kernelspec": {
   "display_name": "Python 3",
   "language": "python",
   "name": "python3"
  },
  "language_info": {
   "codemirror_mode": {
    "name": "ipython",
    "version": 3
   },
   "file_extension": ".py",
   "mimetype": "text/x-python",
   "name": "python",
   "nbconvert_exporter": "python",
   "pygments_lexer": "ipython3",
   "version": "3.6.5"
  }
 },
 "nbformat": 4,
 "nbformat_minor": 2
}
