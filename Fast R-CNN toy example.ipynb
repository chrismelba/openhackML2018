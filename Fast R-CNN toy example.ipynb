{
 "cells": [
  {
   "cell_type": "code",
   "execution_count": 6,
   "metadata": {},
   "outputs": [
    {
     "name": "stdout",
     "output_type": "stream",
     "text": [
      "Requirement already satisfied: opencv-python in c:\\users\\chris\\anaconda3\\lib\\site-packages (3.4.2.17)\n",
      "Requirement already satisfied: easydict in c:\\users\\chris\\anaconda3\\lib\\site-packages (1.8)\n",
      "Requirement already satisfied: pyyaml in c:\\users\\chris\\anaconda3\\lib\\site-packages (3.12)\n",
      "Collecting dlib\n",
      "  Using cached https://files.pythonhosted.org/packages/df/aa/6a9bb2a763107bb2606d6ee1aa65fcd3b51375a9ef6436e9c9280b0dd63c/dlib-19.15.0.tar.gz\n",
      "Requirement already satisfied: numpy>=1.11.3 in c:\\users\\chris\\anaconda3\\lib\\site-packages (from opencv-python) (1.14.3)\n",
      "Building wheels for collected packages: dlib\n",
      "  Running setup.py bdist_wheel for dlib: started\n",
      "  Running setup.py bdist_wheel for dlib: finished with status 'error'\n",
      "  Complete output from command c:\\users\\chris\\anaconda3\\python.exe -u -c \"import setuptools, tokenize;__file__='C:\\\\Users\\\\chris\\\\AppData\\\\Local\\\\Temp\\\\pip-install-fouvh2fc\\\\dlib\\\\setup.py';f=getattr(tokenize, 'open', open)(__file__);code=f.read().replace('\\r\\n', '\\n');f.close();exec(compile(code, __file__, 'exec'))\" bdist_wheel -d C:\\Users\\chris\\AppData\\Local\\Temp\\pip-wheel-85u7658z --python-tag cp36:\n",
      "  running bdist_wheel\n",
      "  running build\n",
      "  running build_py\n",
      "  package init file 'dlib\\__init__.py' not found (or not a regular file)\n",
      "  running build_ext\n",
      "  Building extension for Python 3.6.5 |Anaconda, Inc.| (default, Mar 29 2018, 13:32:41) [MSC v.1900 64 bit (AMD64)]\n",
      "  Invoking CMake setup: 'cmake C:\\Users\\chris\\AppData\\Local\\Temp\\pip-install-fouvh2fc\\dlib\\tools\\python -DCMAKE_LIBRARY_OUTPUT_DIRECTORY=C:\\Users\\chris\\AppData\\Local\\Temp\\pip-install-fouvh2fc\\dlib\\build\\lib.win-amd64-3.6 -DPYTHON_EXECUTABLE=c:\\users\\chris\\anaconda3\\python.exe -DCMAKE_LIBRARY_OUTPUT_DIRECTORY_RELEASE=C:\\Users\\chris\\AppData\\Local\\Temp\\pip-install-fouvh2fc\\dlib\\build\\lib.win-amd64-3.6 -A x64'\n",
      "  -- Building for: NMake Makefiles\n",
      "  CMake Error in CMakeLists.txt:\n",
      "    Generator\n",
      "  \n",
      "      NMake Makefiles\n",
      "  \n",
      "    does not support platform specification, but platform\n",
      "  \n",
      "      x64\n",
      "  \n",
      "    was specified.\n",
      "  \n",
      "  \n",
      "  CMake Error: CMAKE_C_COMPILER not set, after EnableLanguage\n",
      "  CMake Error: CMAKE_CXX_COMPILER not set, after EnableLanguage\n",
      "  -- Configuring incomplete, errors occurred!\n",
      "  See also \"C:/Users/chris/AppData/Local/Temp/pip-install-fouvh2fc/dlib/build/temp.win-amd64-3.6/Release/CMakeFiles/CMakeOutput.log\".\n",
      "  Traceback (most recent call last):\n",
      "    File \"<string>\", line 1, in <module>\n",
      "    File \"C:\\Users\\chris\\AppData\\Local\\Temp\\pip-install-fouvh2fc\\dlib\\setup.py\", line 257, in <module>\n",
      "      'Topic :: Software Development',\n",
      "    File \"c:\\users\\chris\\anaconda3\\lib\\site-packages\\setuptools\\__init__.py\", line 129, in setup\n",
      "      return distutils.core.setup(**attrs)\n",
      "    File \"c:\\users\\chris\\anaconda3\\lib\\distutils\\core.py\", line 148, in setup\n",
      "      dist.run_commands()\n",
      "    File \"c:\\users\\chris\\anaconda3\\lib\\distutils\\dist.py\", line 955, in run_commands\n",
      "      self.run_command(cmd)\n",
      "    File \"c:\\users\\chris\\anaconda3\\lib\\distutils\\dist.py\", line 974, in run_command\n",
      "      cmd_obj.run()\n",
      "    File \"c:\\users\\chris\\anaconda3\\lib\\site-packages\\wheel\\bdist_wheel.py\", line 202, in run\n",
      "      self.run_command('build')\n",
      "    File \"c:\\users\\chris\\anaconda3\\lib\\distutils\\cmd.py\", line 313, in run_command\n",
      "      self.distribution.run_command(command)\n",
      "    File \"c:\\users\\chris\\anaconda3\\lib\\distutils\\dist.py\", line 974, in run_command\n",
      "      cmd_obj.run()\n",
      "    File \"c:\\users\\chris\\anaconda3\\lib\\distutils\\command\\build.py\", line 135, in run\n",
      "      self.run_command(cmd_name)\n",
      "    File \"c:\\users\\chris\\anaconda3\\lib\\distutils\\cmd.py\", line 313, in run_command\n",
      "      self.distribution.run_command(command)\n",
      "    File \"c:\\users\\chris\\anaconda3\\lib\\distutils\\dist.py\", line 974, in run_command\n",
      "      cmd_obj.run()\n",
      "    File \"C:\\Users\\chris\\AppData\\Local\\Temp\\pip-install-fouvh2fc\\dlib\\setup.py\", line 133, in run\n",
      "      self.build_extension(ext)\n",
      "    File \"C:\\Users\\chris\\AppData\\Local\\Temp\\pip-install-fouvh2fc\\dlib\\setup.py\", line 170, in build_extension\n",
      "      subprocess.check_call(cmake_setup, cwd=build_folder)\n",
      "    File \"c:\\users\\chris\\anaconda3\\lib\\subprocess.py\", line 291, in check_call\n",
      "      raise CalledProcessError(retcode, cmd)\n",
      "  subprocess.CalledProcessError: Command '['cmake', 'C:\\\\Users\\\\chris\\\\AppData\\\\Local\\\\Temp\\\\pip-install-fouvh2fc\\\\dlib\\\\tools\\\\python', '-DCMAKE_LIBRARY_OUTPUT_DIRECTORY=C:\\\\Users\\\\chris\\\\AppData\\\\Local\\\\Temp\\\\pip-install-fouvh2fc\\\\dlib\\\\build\\\\lib.win-amd64-3.6', '-DPYTHON_EXECUTABLE=c:\\\\users\\\\chris\\\\anaconda3\\\\python.exe', '-DCMAKE_LIBRARY_OUTPUT_DIRECTORY_RELEASE=C:\\\\Users\\\\chris\\\\AppData\\\\Local\\\\Temp\\\\pip-install-fouvh2fc\\\\dlib\\\\build\\\\lib.win-amd64-3.6', '-A', 'x64']' returned non-zero exit status 1.\n",
      "  \n",
      "  ----------------------------------------\n",
      "  Running setup.py clean for dlib\n",
      "Failed to build dlib\n",
      "Installing collected packages: dlib\n",
      "  Running setup.py install for dlib: started\n",
      "    Running setup.py install for dlib: finished with status 'error'\n",
      "    Complete output from command c:\\users\\chris\\anaconda3\\python.exe -u -c \"import setuptools, tokenize;__file__='C:\\\\Users\\\\chris\\\\AppData\\\\Local\\\\Temp\\\\pip-install-fouvh2fc\\\\dlib\\\\setup.py';f=getattr(tokenize, 'open', open)(__file__);code=f.read().replace('\\r\\n', '\\n');f.close();exec(compile(code, __file__, 'exec'))\" install --record C:\\Users\\chris\\AppData\\Local\\Temp\\pip-record-ds74qdey\\install-record.txt --single-version-externally-managed --compile:\n",
      "    running install\n",
      "    running build\n",
      "    running build_py\n",
      "    package init file 'dlib\\__init__.py' not found (or not a regular file)\n",
      "    running build_ext\n",
      "    Building extension for Python 3.6.5 |Anaconda, Inc.| (default, Mar 29 2018, 13:32:41) [MSC v.1900 64 bit (AMD64)]\n",
      "    Invoking CMake setup: 'cmake C:\\Users\\chris\\AppData\\Local\\Temp\\pip-install-fouvh2fc\\dlib\\tools\\python -DCMAKE_LIBRARY_OUTPUT_DIRECTORY=C:\\Users\\chris\\AppData\\Local\\Temp\\pip-install-fouvh2fc\\dlib\\build\\lib.win-amd64-3.6 -DPYTHON_EXECUTABLE=c:\\users\\chris\\anaconda3\\python.exe -DCMAKE_LIBRARY_OUTPUT_DIRECTORY_RELEASE=C:\\Users\\chris\\AppData\\Local\\Temp\\pip-install-fouvh2fc\\dlib\\build\\lib.win-amd64-3.6 -A x64'\n",
      "    -- Building for: NMake Makefiles\n",
      "    CMake Error in CMakeLists.txt:\n",
      "      Generator\n",
      "    \n",
      "        NMake Makefiles\n",
      "    \n",
      "      does not support platform specification, but platform\n",
      "    \n",
      "        x64\n",
      "    \n",
      "      was specified.\n",
      "    \n",
      "    \n",
      "    CMake Error: CMAKE_C_COMPILER not set, after EnableLanguage\n",
      "    CMake Error: CMAKE_CXX_COMPILER not set, after EnableLanguage\n",
      "    -- Configuring incomplete, errors occurred!\n",
      "    See also \"C:/Users/chris/AppData/Local/Temp/pip-install-fouvh2fc/dlib/build/temp.win-amd64-3.6/Release/CMakeFiles/CMakeOutput.log\".\n",
      "    Traceback (most recent call last):\n",
      "      File \"<string>\", line 1, in <module>\n",
      "      File \"C:\\Users\\chris\\AppData\\Local\\Temp\\pip-install-fouvh2fc\\dlib\\setup.py\", line 257, in <module>\n",
      "        'Topic :: Software Development',\n",
      "      File \"c:\\users\\chris\\anaconda3\\lib\\site-packages\\setuptools\\__init__.py\", line 129, in setup\n",
      "        return distutils.core.setup(**attrs)\n",
      "      File \"c:\\users\\chris\\anaconda3\\lib\\distutils\\core.py\", line 148, in setup\n",
      "        dist.run_commands()\n",
      "      File \"c:\\users\\chris\\anaconda3\\lib\\distutils\\dist.py\", line 955, in run_commands\n",
      "        self.run_command(cmd)\n",
      "      File \"c:\\users\\chris\\anaconda3\\lib\\distutils\\dist.py\", line 974, in run_command\n",
      "        cmd_obj.run()\n",
      "      File \"c:\\users\\chris\\anaconda3\\lib\\site-packages\\setuptools\\command\\install.py\", line 61, in run\n",
      "        return orig.install.run(self)\n",
      "      File \"c:\\users\\chris\\anaconda3\\lib\\distutils\\command\\install.py\", line 545, in run\n",
      "        self.run_command('build')\n",
      "      File \"c:\\users\\chris\\anaconda3\\lib\\distutils\\cmd.py\", line 313, in run_command\n",
      "        self.distribution.run_command(command)\n",
      "      File \"c:\\users\\chris\\anaconda3\\lib\\distutils\\dist.py\", line 974, in run_command\n",
      "        cmd_obj.run()\n",
      "      File \"c:\\users\\chris\\anaconda3\\lib\\distutils\\command\\build.py\", line 135, in run\n",
      "        self.run_command(cmd_name)\n",
      "      File \"c:\\users\\chris\\anaconda3\\lib\\distutils\\cmd.py\", line 313, in run_command\n",
      "        self.distribution.run_command(command)\n",
      "      File \"c:\\users\\chris\\anaconda3\\lib\\distutils\\dist.py\", line 974, in run_command\n",
      "        cmd_obj.run()\n",
      "      File \"C:\\Users\\chris\\AppData\\Local\\Temp\\pip-install-fouvh2fc\\dlib\\setup.py\", line 133, in run\n",
      "        self.build_extension(ext)\n",
      "      File \"C:\\Users\\chris\\AppData\\Local\\Temp\\pip-install-fouvh2fc\\dlib\\setup.py\", line 170, in build_extension\n",
      "        subprocess.check_call(cmake_setup, cwd=build_folder)\n",
      "      File \"c:\\users\\chris\\anaconda3\\lib\\subprocess.py\", line 291, in check_call\n",
      "        raise CalledProcessError(retcode, cmd)\n",
      "    subprocess.CalledProcessError: Command '['cmake', 'C:\\\\Users\\\\chris\\\\AppData\\\\Local\\\\Temp\\\\pip-install-fouvh2fc\\\\dlib\\\\tools\\\\python', '-DCMAKE_LIBRARY_OUTPUT_DIRECTORY=C:\\\\Users\\\\chris\\\\AppData\\\\Local\\\\Temp\\\\pip-install-fouvh2fc\\\\dlib\\\\build\\\\lib.win-amd64-3.6', '-DPYTHON_EXECUTABLE=c:\\\\users\\\\chris\\\\anaconda3\\\\python.exe', '-DCMAKE_LIBRARY_OUTPUT_DIRECTORY_RELEASE=C:\\\\Users\\\\chris\\\\AppData\\\\Local\\\\Temp\\\\pip-install-fouvh2fc\\\\dlib\\\\build\\\\lib.win-amd64-3.6', '-A', 'x64']' returned non-zero exit status 1.\n",
      "    \n",
      "    ----------------------------------------\n"
     ]
    },
    {
     "name": "stderr",
     "output_type": "stream",
     "text": [
      "  Failed building wheel for dlib\n",
      "Command \"c:\\users\\chris\\anaconda3\\python.exe -u -c \"import setuptools, tokenize;__file__='C:\\\\Users\\\\chris\\\\AppData\\\\Local\\\\Temp\\\\pip-install-fouvh2fc\\\\dlib\\\\setup.py';f=getattr(tokenize, 'open', open)(__file__);code=f.read().replace('\\r\\n', '\\n');f.close();exec(compile(code, __file__, 'exec'))\" install --record C:\\Users\\chris\\AppData\\Local\\Temp\\pip-record-ds74qdey\\install-record.txt --single-version-externally-managed --compile\" failed with error code 1 in C:\\Users\\chris\\AppData\\Local\\Temp\\pip-install-fouvh2fc\\dlib\\\n"
     ]
    }
   ],
   "source": [
    "!pip install opencv-python easydict pyyaml dlib"
   ]
  },
  {
   "cell_type": "code",
   "execution_count": 3,
   "metadata": {},
   "outputs": [
    {
     "name": "stdout",
     "output_type": "stream",
     "text": [
      "Collecting pip\n",
      "  Downloading https://files.pythonhosted.org/packages/5f/25/e52d3f31441505a5f3af41213346e5b6c221c9e086a166f3703d2ddaf940/pip-18.0-py2.py3-none-any.whl (1.3MB)\n",
      "Installing collected packages: pip\n",
      "  Found existing installation: pip 10.0.1\n",
      "    Uninstalling pip-10.0.1:\n",
      "      Successfully uninstalled pip-10.0.1\n",
      "Successfully installed pip-18.0\n"
     ]
    }
   ],
   "source": [
    "!python -m pip install --upgrade pip"
   ]
  },
  {
   "cell_type": "code",
   "execution_count": 5,
   "metadata": {},
   "outputs": [
    {
     "name": "stdout",
     "output_type": "stream",
     "text": [
      "Collecting cmake\n",
      "  Downloading https://files.pythonhosted.org/packages/42/46/486a0e7e6a67ed22f5d84436c491200b4c933bb9d4f3fa5a8f20319b2e83/cmake-3.12.0-cp36-cp36m-win_amd64.whl (26.2MB)\n",
      "Installing collected packages: cmake\n",
      "Successfully installed cmake-3.12.0\n"
     ]
    }
   ],
   "source": [
    "!pip install cmake"
   ]
  },
  {
   "cell_type": "code",
   "execution_count": null,
   "metadata": {},
   "outputs": [],
   "source": []
  }
 ],
 "metadata": {
  "kernelspec": {
   "display_name": "Python 3",
   "language": "python",
   "name": "python3"
  },
  "language_info": {
   "codemirror_mode": {
    "name": "ipython",
    "version": 3
   },
   "file_extension": ".py",
   "mimetype": "text/x-python",
   "name": "python",
   "nbconvert_exporter": "python",
   "pygments_lexer": "ipython3",
   "version": "3.6.5"
  }
 },
 "nbformat": 4,
 "nbformat_minor": 2
}
